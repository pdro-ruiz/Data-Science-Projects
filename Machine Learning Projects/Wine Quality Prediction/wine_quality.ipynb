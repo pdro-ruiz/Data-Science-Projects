{
 "cells": [
  {
   "cell_type": "markdown",
   "metadata": {},
   "source": [
    "<p align=\"center\">\n",
    "  <img src=\"assets/wine_quality.jpg\" alt=\"wine quality\">\n",
    "</p>"
   ]
  },
  {
   "cell_type": "markdown",
   "metadata": {},
   "source": [
    "# Predicción de la calidad del vino mediante Machine Learning\n",
    "\n",
    "---\n",
    "\n",
    "Bienvenidos a este nuevo análisis de datos. En este notebook, vamos a explorar un conjunto de datos muy conocido en la comunidad de Data Science: el dataset de calidad del vino. Este dataset contiene una serie de características químicas de diferentes vinos, junto con una calificación de calidad para cada uno.\n",
    "\n",
    "El objetivo de nuestro análisis es desarrollar un modelo de Machine Learning que pueda predecir la calidad del vino basándose en estas características. Este tipo de modelos pueden ser extremadamente útiles en la industria del vino, permitiendo a los productores predecir y optimizar la calidad de sus productos.\n",
    "\n",
    "A lo largo de este notebook, intentaremos realizar un análisis exploratorio de los datos, preparar los datos para el modelado, entrenaremos varios modelos de Machine Learning y evaluaremos su rendimiento. \n",
    "\n",
    "Esperamos que encuentren este análisis interesante y útil. ¡Comencemos!"
   ]
  },
  {
   "cell_type": "markdown",
   "metadata": {},
   "source": [
    "## Importacion de bibliotecas y conjunto de datos \n",
    "\n",
    "A continuacion, importaremos las todas las bibliotecas necesarias para nuestro análisis y modelado:\n",
    "\n",
    "- `numpy`: Nos proporciona una variedad de rutinas para operaciones rápidas en matrices y matematicas.\n",
    "- `pandas`: Proporciona estructuras para los datos y herramientas de análisis de alto rendimiento y fáciles de usar.\n",
    "- `matplotlib` y `seaborn`: se utilizaran para visualizar los datos. Nos ayudarán a entender mejor las características y la distribución de los datos.\n",
    "- `sklearn`: Es un modulo con varias bibliotecas instaladas, nos interesara el trabajo con variaos modelos y medios de evaluacion.\n",
    "- `XGBoost`: Es una biblioteca optimizada de gradient boosting. Vamos a utilizar su clasificador."
   ]
  },
  {
   "cell_type": "code",
   "execution_count": 9,
   "metadata": {},
   "outputs": [],
   "source": [
    "import numpy as np\n",
    "import pandas as pd\n",
    "import matplotlib.pyplot as plt\n",
    "import seaborn as sns\n",
    "\n",
    "from sklearn.impute import KNNImputer\n",
    "from sklearn.preprocessing import LabelEncoder\n",
    "from sklearn.model_selection import train_test_split\n",
    "from sklearn.preprocessing import MinMaxScaler\n",
    "from sklearn import metrics\n",
    "from sklearn.linear_model import LogisticRegression\n",
    "from xgboost import XGBClassifier\n",
    "from sklearn.svm import SVC"
   ]
  },
  {
   "cell_type": "markdown",
   "metadata": {},
   "source": [
    "Ahora que hemos importado las bibliotecas necesarias, el siguiente paso es importar nuestro conjunto de datos. "
   ]
  },
  {
   "cell_type": "code",
   "execution_count": 2,
   "metadata": {},
   "outputs": [],
   "source": [
    "df = pd.read_csv('data/winequalityN.csv')"
   ]
  },
  {
   "cell_type": "markdown",
   "metadata": {},
   "source": [
    "## Exploración Inicial de los datos\n",
    "\n",
    "Una vez que hemos importado el conjunto de datos, podemos echar un vistazo a las primeras filas para tener una idea de la información que contiene."
   ]
  },
  {
   "cell_type": "code",
   "execution_count": 3,
   "metadata": {},
   "outputs": [
    {
     "name": "stdout",
     "output_type": "stream",
     "text": [
      "    type  fixed acidity  volatile acidity  citric acid  residual sugar  \\\n",
      "0  white            7.0              0.27         0.36            20.7   \n",
      "1  white            6.3              0.30         0.34             1.6   \n",
      "2  white            8.1              0.28         0.40             6.9   \n",
      "3  white            7.2              0.23         0.32             8.5   \n",
      "4  white            7.2              0.23         0.32             8.5   \n",
      "\n",
      "   chlorides  free sulfur dioxide  total sulfur dioxide  density    pH  \\\n",
      "0      0.045                 45.0                 170.0   1.0010  3.00   \n",
      "1      0.049                 14.0                 132.0   0.9940  3.30   \n",
      "2      0.050                 30.0                  97.0   0.9951  3.26   \n",
      "3      0.058                 47.0                 186.0   0.9956  3.19   \n",
      "4      0.058                 47.0                 186.0   0.9956  3.19   \n",
      "\n",
      "   sulphates  alcohol  quality  \n",
      "0       0.45      8.8        6  \n",
      "1       0.49      9.5        6  \n",
      "2       0.44     10.1        6  \n",
      "3       0.40      9.9        6  \n",
      "4       0.40      9.9        6  \n"
     ]
    }
   ],
   "source": [
    "print(df.head())"
   ]
  },
  {
   "cell_type": "markdown",
   "metadata": {},
   "source": [
    "Como podemos observar, cada fila representa un vino diferente, y las columnas representan las características de ese vino, incluyendo su tipo (blanco o tinto), varios atributos químicos, y una calificación de calidad:\n",
    "\n",
    "1. `type`: Se refiere al tipo de vino. En nuestro conjunto de datos, todos los 6497 vinos tienen un tipo especificado (blanco o tinto).\n",
    "2. `fixed acidity`: Se refiere a los ácidos que no se evaporan fácilmente.\n",
    "3. `volatile acidity`: Es una medida de la cantidad de ácidos volátiles o gaseosos en el vino.\n",
    "4. `citric acid`: Es uno de los ácidos principales presentes en las uvas.\n",
    "5. `residual sugar`: Se refiere a la cantidad de azúcar que queda después de que la fermentación ha terminado. \n",
    "6. `chlorides`: Son la cantidad de sal en el vino.\n",
    "7. `free sulfur dioxide`: El dióxido de azufre se utiliza en la vinificación para prevenir el crecimiento de microorganismos y la oxidación del vino.\n",
    "8. `total sulfur dioxide`: Es la suma del dióxido de azufre libre y el dióxido de azufre unido.\n",
    "9. `density`: Es una medida de la cantidad de masa por unidad de volumen en el vino.\n",
    "10. `pH`: Es una medida de la acidez o alcalinidad del vino.\n",
    "11. `sulphates`: Los sulfatos en el vino pueden contribuir a los niveles de dióxido de azufre.\n",
    "12. `alcohol`: Es el contenido de volumen alcoholico del vino.\n",
    "13. `quality`: Es una medida de la calidad del vino, seran valorados con una nota del 1 al 9."
   ]
  },
  {
   "cell_type": "code",
   "execution_count": 4,
   "metadata": {},
   "outputs": [
    {
     "name": "stdout",
     "output_type": "stream",
     "text": [
      "<class 'pandas.core.frame.DataFrame'>\n",
      "RangeIndex: 6497 entries, 0 to 6496\n",
      "Data columns (total 13 columns):\n",
      " #   Column                Non-Null Count  Dtype  \n",
      "---  ------                --------------  -----  \n",
      " 0   type                  6497 non-null   object \n",
      " 1   fixed acidity         6487 non-null   float64\n",
      " 2   volatile acidity      6489 non-null   float64\n",
      " 3   citric acid           6494 non-null   float64\n",
      " 4   residual sugar        6495 non-null   float64\n",
      " 5   chlorides             6495 non-null   float64\n",
      " 6   free sulfur dioxide   6497 non-null   float64\n",
      " 7   total sulfur dioxide  6497 non-null   float64\n",
      " 8   density               6497 non-null   float64\n",
      " 9   pH                    6488 non-null   float64\n",
      " 10  sulphates             6493 non-null   float64\n",
      " 11  alcohol               6497 non-null   float64\n",
      " 12  quality               6497 non-null   int64  \n",
      "dtypes: float64(11), int64(1), object(1)\n",
      "memory usage: 660.0+ KB\n"
     ]
    }
   ],
   "source": [
    "df.info()"
   ]
  },
  {
   "cell_type": "code",
   "execution_count": 5,
   "metadata": {},
   "outputs": [
    {
     "data": {
      "text/html": [
       "<div>\n",
       "<style scoped>\n",
       "    .dataframe tbody tr th:only-of-type {\n",
       "        vertical-align: middle;\n",
       "    }\n",
       "\n",
       "    .dataframe tbody tr th {\n",
       "        vertical-align: top;\n",
       "    }\n",
       "\n",
       "    .dataframe thead th {\n",
       "        text-align: right;\n",
       "    }\n",
       "</style>\n",
       "<table border=\"1\" class=\"dataframe\">\n",
       "  <thead>\n",
       "    <tr style=\"text-align: right;\">\n",
       "      <th></th>\n",
       "      <th>fixed acidity</th>\n",
       "      <th>volatile acidity</th>\n",
       "      <th>citric acid</th>\n",
       "      <th>residual sugar</th>\n",
       "      <th>chlorides</th>\n",
       "      <th>free sulfur dioxide</th>\n",
       "      <th>total sulfur dioxide</th>\n",
       "      <th>density</th>\n",
       "      <th>pH</th>\n",
       "      <th>sulphates</th>\n",
       "      <th>alcohol</th>\n",
       "      <th>quality</th>\n",
       "    </tr>\n",
       "  </thead>\n",
       "  <tbody>\n",
       "    <tr>\n",
       "      <th>count</th>\n",
       "      <td>6487.000000</td>\n",
       "      <td>6489.000000</td>\n",
       "      <td>6494.000000</td>\n",
       "      <td>6495.000000</td>\n",
       "      <td>6495.000000</td>\n",
       "      <td>6497.000000</td>\n",
       "      <td>6497.000000</td>\n",
       "      <td>6497.000000</td>\n",
       "      <td>6488.000000</td>\n",
       "      <td>6493.000000</td>\n",
       "      <td>6497.000000</td>\n",
       "      <td>6497.000000</td>\n",
       "    </tr>\n",
       "    <tr>\n",
       "      <th>mean</th>\n",
       "      <td>7.216579</td>\n",
       "      <td>0.339691</td>\n",
       "      <td>0.318722</td>\n",
       "      <td>5.444326</td>\n",
       "      <td>0.056042</td>\n",
       "      <td>30.525319</td>\n",
       "      <td>115.744574</td>\n",
       "      <td>0.994697</td>\n",
       "      <td>3.218395</td>\n",
       "      <td>0.531215</td>\n",
       "      <td>10.491801</td>\n",
       "      <td>5.818378</td>\n",
       "    </tr>\n",
       "    <tr>\n",
       "      <th>std</th>\n",
       "      <td>1.296750</td>\n",
       "      <td>0.164649</td>\n",
       "      <td>0.145265</td>\n",
       "      <td>4.758125</td>\n",
       "      <td>0.035036</td>\n",
       "      <td>17.749400</td>\n",
       "      <td>56.521855</td>\n",
       "      <td>0.002999</td>\n",
       "      <td>0.160748</td>\n",
       "      <td>0.148814</td>\n",
       "      <td>1.192712</td>\n",
       "      <td>0.873255</td>\n",
       "    </tr>\n",
       "    <tr>\n",
       "      <th>min</th>\n",
       "      <td>3.800000</td>\n",
       "      <td>0.080000</td>\n",
       "      <td>0.000000</td>\n",
       "      <td>0.600000</td>\n",
       "      <td>0.009000</td>\n",
       "      <td>1.000000</td>\n",
       "      <td>6.000000</td>\n",
       "      <td>0.987110</td>\n",
       "      <td>2.720000</td>\n",
       "      <td>0.220000</td>\n",
       "      <td>8.000000</td>\n",
       "      <td>3.000000</td>\n",
       "    </tr>\n",
       "    <tr>\n",
       "      <th>25%</th>\n",
       "      <td>6.400000</td>\n",
       "      <td>0.230000</td>\n",
       "      <td>0.250000</td>\n",
       "      <td>1.800000</td>\n",
       "      <td>0.038000</td>\n",
       "      <td>17.000000</td>\n",
       "      <td>77.000000</td>\n",
       "      <td>0.992340</td>\n",
       "      <td>3.110000</td>\n",
       "      <td>0.430000</td>\n",
       "      <td>9.500000</td>\n",
       "      <td>5.000000</td>\n",
       "    </tr>\n",
       "    <tr>\n",
       "      <th>50%</th>\n",
       "      <td>7.000000</td>\n",
       "      <td>0.290000</td>\n",
       "      <td>0.310000</td>\n",
       "      <td>3.000000</td>\n",
       "      <td>0.047000</td>\n",
       "      <td>29.000000</td>\n",
       "      <td>118.000000</td>\n",
       "      <td>0.994890</td>\n",
       "      <td>3.210000</td>\n",
       "      <td>0.510000</td>\n",
       "      <td>10.300000</td>\n",
       "      <td>6.000000</td>\n",
       "    </tr>\n",
       "    <tr>\n",
       "      <th>75%</th>\n",
       "      <td>7.700000</td>\n",
       "      <td>0.400000</td>\n",
       "      <td>0.390000</td>\n",
       "      <td>8.100000</td>\n",
       "      <td>0.065000</td>\n",
       "      <td>41.000000</td>\n",
       "      <td>156.000000</td>\n",
       "      <td>0.996990</td>\n",
       "      <td>3.320000</td>\n",
       "      <td>0.600000</td>\n",
       "      <td>11.300000</td>\n",
       "      <td>6.000000</td>\n",
       "    </tr>\n",
       "    <tr>\n",
       "      <th>max</th>\n",
       "      <td>15.900000</td>\n",
       "      <td>1.580000</td>\n",
       "      <td>1.660000</td>\n",
       "      <td>65.800000</td>\n",
       "      <td>0.611000</td>\n",
       "      <td>289.000000</td>\n",
       "      <td>440.000000</td>\n",
       "      <td>1.038980</td>\n",
       "      <td>4.010000</td>\n",
       "      <td>2.000000</td>\n",
       "      <td>14.900000</td>\n",
       "      <td>9.000000</td>\n",
       "    </tr>\n",
       "  </tbody>\n",
       "</table>\n",
       "</div>"
      ],
      "text/plain": [
       "       fixed acidity  volatile acidity  citric acid  residual sugar  \\\n",
       "count    6487.000000       6489.000000  6494.000000     6495.000000   \n",
       "mean        7.216579          0.339691     0.318722        5.444326   \n",
       "std         1.296750          0.164649     0.145265        4.758125   \n",
       "min         3.800000          0.080000     0.000000        0.600000   \n",
       "25%         6.400000          0.230000     0.250000        1.800000   \n",
       "50%         7.000000          0.290000     0.310000        3.000000   \n",
       "75%         7.700000          0.400000     0.390000        8.100000   \n",
       "max        15.900000          1.580000     1.660000       65.800000   \n",
       "\n",
       "         chlorides  free sulfur dioxide  total sulfur dioxide      density  \\\n",
       "count  6495.000000          6497.000000           6497.000000  6497.000000   \n",
       "mean      0.056042            30.525319            115.744574     0.994697   \n",
       "std       0.035036            17.749400             56.521855     0.002999   \n",
       "min       0.009000             1.000000              6.000000     0.987110   \n",
       "25%       0.038000            17.000000             77.000000     0.992340   \n",
       "50%       0.047000            29.000000            118.000000     0.994890   \n",
       "75%       0.065000            41.000000            156.000000     0.996990   \n",
       "max       0.611000           289.000000            440.000000     1.038980   \n",
       "\n",
       "                pH    sulphates      alcohol      quality  \n",
       "count  6488.000000  6493.000000  6497.000000  6497.000000  \n",
       "mean      3.218395     0.531215    10.491801     5.818378  \n",
       "std       0.160748     0.148814     1.192712     0.873255  \n",
       "min       2.720000     0.220000     8.000000     3.000000  \n",
       "25%       3.110000     0.430000     9.500000     5.000000  \n",
       "50%       3.210000     0.510000    10.300000     6.000000  \n",
       "75%       3.320000     0.600000    11.300000     6.000000  \n",
       "max       4.010000     2.000000    14.900000     9.000000  "
      ]
     },
     "execution_count": 5,
     "metadata": {},
     "output_type": "execute_result"
    }
   ],
   "source": [
    "df.describe()"
   ]
  },
  {
   "cell_type": "markdown",
   "metadata": {},
   "source": [
    "El método `describe()` nos ofrece un panorama estadístico que nos permite hacer ya algunas observaciones iniciales:\n",
    "\n",
    "1. En cuanto a la `acidez fija`, la mayoría de los vinos se sitúan entre 6.4 y 7.7 g/dm³. Sin embargo, hay algunos que llegan hasta 15.9 g/dm³, lo que indica una acidez bastante elevada.\n",
    "2. La `acidez volátil` promedio es de 0.34 g/dm³, pero hay vinos que alcanzan hasta 1.58 g/dm³. Esto podría sugerir un sabor fuertemente avinagrado en algunos casos.\n",
    "3. Respecto al `ácido cítrico`, la mayoría de los vinos tienen un contenido que oscila entre 0.25 y 0.39 g/dm³, aunque algunos llegan a los 1.66 g/dm³.\n",
    "4. Algunos vinos presentan un `azúcar residual` bastante alto, llegando hasta 65.8 g/dm³, lo que podría traducirse en sabores muy dulces.\n",
    "5. En relación a los `cloruros`, la mayoría de los vinos tienen un contenido entre 0.038 y 0.065 g/dm³. Sin embargo, hay vinos con hasta 0.611 g/dm³, lo que podría dar lugar a sabores salados.\n",
    "6. Algunos vinos muestran un `dióxido de azufre libre` de hasta 289 mg/dm³, lo que podría indicar una mayor conservación y una vida útil más larga.\n",
    "7. En cuanto al `dióxido de azufre total`, hay vinos que alcanzan hasta 440 mg/dm³, lo que también podría sugerir una mejor conservación y una vida útil más larga.\n",
    "8. La mayoría de los vinos tienen una `densidad` entre 0.9923 y 0.9970 g/cm³, pero algunos llegan hasta 1.039 g/cm³.\n",
    "9. En términos de `pH`, la mayoría de los vinos se encuentran entre 3.11 y 3.32. Sin embargo, algunos alcanzan un pH de hasta 4.01, lo que podría indicar un sabor más amargo.\n",
    "10. Tenemos vinos con un contenido de `sulfatos` de hasta 2.00 g/dm³, lo que podría indicar una mayor conservación y una vida útil más larga.\n",
    "11. La mayoría de los vinos tienen un contenido de `alcohol` entre 9.5% y 11.3%, pero algunos vinos llegan hasta el 14.9%.\n",
    "12. En cuanto a la `calidad`, los vinos en este conjunto de datos varían de 3 a 9, con una media de 5.8 y una mediana de 6. Esto sugiere que la mayoría de los vinos son de calidad media a buena."
   ]
  },
  {
   "cell_type": "markdown",
   "metadata": {},
   "source": [
    "## Preparacion de los datos\n",
    "\n",
    "En esta sección, nos centraremos en preparar nuestros datos para el análisis y el modelado. \n",
    "\n",
    "La preparación de los datos es un paso crucial. Incluye limpiar los datos, tratar los valores faltantes, convertir las variables categóricas en un formato que los modelos de ML puedan entender y, a veces, crear nuevas variables a partir de las existentes. Este proceso puede tener un gran impacto en la calidad de los resultados finales, ya que los modelos dependen en gran medida de la calidad de los datos de entrada."
   ]
  },
  {
   "cell_type": "markdown",
   "metadata": {},
   "source": [
    "### - Preprocesamiento de datos\n",
    "\n",
    "Trabajaremos con `LabelEncoder` para convertir las etiquetas categóricas de `type` en una forma numérica interpretable para el modelo."
   ]
  },
  {
   "cell_type": "code",
   "execution_count": 11,
   "metadata": {},
   "outputs": [
    {
     "data": {
      "text/html": [
       "<div>\n",
       "<style scoped>\n",
       "    .dataframe tbody tr th:only-of-type {\n",
       "        vertical-align: middle;\n",
       "    }\n",
       "\n",
       "    .dataframe tbody tr th {\n",
       "        vertical-align: top;\n",
       "    }\n",
       "\n",
       "    .dataframe thead th {\n",
       "        text-align: right;\n",
       "    }\n",
       "</style>\n",
       "<table border=\"1\" class=\"dataframe\">\n",
       "  <thead>\n",
       "    <tr style=\"text-align: right;\">\n",
       "      <th></th>\n",
       "      <th>type</th>\n",
       "      <th>fixed acidity</th>\n",
       "      <th>volatile acidity</th>\n",
       "      <th>citric acid</th>\n",
       "      <th>residual sugar</th>\n",
       "      <th>chlorides</th>\n",
       "      <th>free sulfur dioxide</th>\n",
       "      <th>total sulfur dioxide</th>\n",
       "      <th>density</th>\n",
       "      <th>pH</th>\n",
       "      <th>sulphates</th>\n",
       "      <th>alcohol</th>\n",
       "      <th>quality</th>\n",
       "    </tr>\n",
       "  </thead>\n",
       "  <tbody>\n",
       "    <tr>\n",
       "      <th>0</th>\n",
       "      <td>1</td>\n",
       "      <td>7.0</td>\n",
       "      <td>0.27</td>\n",
       "      <td>0.36</td>\n",
       "      <td>20.7</td>\n",
       "      <td>0.045</td>\n",
       "      <td>45.0</td>\n",
       "      <td>170.0</td>\n",
       "      <td>1.0010</td>\n",
       "      <td>3.00</td>\n",
       "      <td>0.45</td>\n",
       "      <td>8.8</td>\n",
       "      <td>6</td>\n",
       "    </tr>\n",
       "    <tr>\n",
       "      <th>1</th>\n",
       "      <td>1</td>\n",
       "      <td>6.3</td>\n",
       "      <td>0.30</td>\n",
       "      <td>0.34</td>\n",
       "      <td>1.6</td>\n",
       "      <td>0.049</td>\n",
       "      <td>14.0</td>\n",
       "      <td>132.0</td>\n",
       "      <td>0.9940</td>\n",
       "      <td>3.30</td>\n",
       "      <td>0.49</td>\n",
       "      <td>9.5</td>\n",
       "      <td>6</td>\n",
       "    </tr>\n",
       "    <tr>\n",
       "      <th>2</th>\n",
       "      <td>1</td>\n",
       "      <td>8.1</td>\n",
       "      <td>0.28</td>\n",
       "      <td>0.40</td>\n",
       "      <td>6.9</td>\n",
       "      <td>0.050</td>\n",
       "      <td>30.0</td>\n",
       "      <td>97.0</td>\n",
       "      <td>0.9951</td>\n",
       "      <td>3.26</td>\n",
       "      <td>0.44</td>\n",
       "      <td>10.1</td>\n",
       "      <td>6</td>\n",
       "    </tr>\n",
       "    <tr>\n",
       "      <th>3</th>\n",
       "      <td>1</td>\n",
       "      <td>7.2</td>\n",
       "      <td>0.23</td>\n",
       "      <td>0.32</td>\n",
       "      <td>8.5</td>\n",
       "      <td>0.058</td>\n",
       "      <td>47.0</td>\n",
       "      <td>186.0</td>\n",
       "      <td>0.9956</td>\n",
       "      <td>3.19</td>\n",
       "      <td>0.40</td>\n",
       "      <td>9.9</td>\n",
       "      <td>6</td>\n",
       "    </tr>\n",
       "    <tr>\n",
       "      <th>4</th>\n",
       "      <td>1</td>\n",
       "      <td>7.2</td>\n",
       "      <td>0.23</td>\n",
       "      <td>0.32</td>\n",
       "      <td>8.5</td>\n",
       "      <td>0.058</td>\n",
       "      <td>47.0</td>\n",
       "      <td>186.0</td>\n",
       "      <td>0.9956</td>\n",
       "      <td>3.19</td>\n",
       "      <td>0.40</td>\n",
       "      <td>9.9</td>\n",
       "      <td>6</td>\n",
       "    </tr>\n",
       "  </tbody>\n",
       "</table>\n",
       "</div>"
      ],
      "text/plain": [
       "   type  fixed acidity  volatile acidity  citric acid  residual sugar  \\\n",
       "0     1            7.0              0.27         0.36            20.7   \n",
       "1     1            6.3              0.30         0.34             1.6   \n",
       "2     1            8.1              0.28         0.40             6.9   \n",
       "3     1            7.2              0.23         0.32             8.5   \n",
       "4     1            7.2              0.23         0.32             8.5   \n",
       "\n",
       "   chlorides  free sulfur dioxide  total sulfur dioxide  density    pH  \\\n",
       "0      0.045                 45.0                 170.0   1.0010  3.00   \n",
       "1      0.049                 14.0                 132.0   0.9940  3.30   \n",
       "2      0.050                 30.0                  97.0   0.9951  3.26   \n",
       "3      0.058                 47.0                 186.0   0.9956  3.19   \n",
       "4      0.058                 47.0                 186.0   0.9956  3.19   \n",
       "\n",
       "   sulphates  alcohol  quality  \n",
       "0       0.45      8.8        6  \n",
       "1       0.49      9.5        6  \n",
       "2       0.44     10.1        6  \n",
       "3       0.40      9.9        6  \n",
       "4       0.40      9.9        6  "
      ]
     },
     "execution_count": 11,
     "metadata": {},
     "output_type": "execute_result"
    }
   ],
   "source": [
    "encoder = LabelEncoder()\n",
    "df['type'] = encoder.fit_transform(df['type'])"
   ]
  },
  {
   "cell_type": "markdown",
   "metadata": {},
   "source": [
    "### - Tratamiento de valores nulos\n",
    "\n",
    "Ahora procederemos a identificar y tratar adecuadamente los valores nulos o faltantes."
   ]
  },
  {
   "cell_type": "code",
   "execution_count": 12,
   "metadata": {},
   "outputs": [
    {
     "data": {
      "text/plain": [
       "type                     0\n",
       "fixed acidity           10\n",
       "volatile acidity         8\n",
       "citric acid              3\n",
       "residual sugar           2\n",
       "chlorides                2\n",
       "free sulfur dioxide      0\n",
       "total sulfur dioxide     0\n",
       "density                  0\n",
       "pH                       9\n",
       "sulphates                4\n",
       "alcohol                  0\n",
       "quality                  0\n",
       "dtype: int64"
      ]
     },
     "execution_count": 12,
     "metadata": {},
     "output_type": "execute_result"
    }
   ],
   "source": [
    "df.isnull().sum()"
   ]
  },
  {
   "cell_type": "markdown",
   "metadata": {},
   "source": [
    "Una estrategia común utilizada es reemplazar los valores nulos con la media de los valores no nulos en la misma columna. Sin embargo, esta estrategia puede no ser ideal si los datos están sesgados o si hay valores atípicos, ya que estos pueden distorsionar la media.\n",
    "\n",
    "Por eso, en este caso, estoy considerando utilizar el método k-Nearest Neighbors (k-NN) para imputar los valores nulos. \n",
    "\n",
    "El método k-NN identifica los ‘k’ puntos de datos más cercanos a la observación con el valor nulo y utiliza estos puntos de datos para imputar el valor. La ventaja de usar k-NN sobre la media es que puede capturar patrones más complejos en los datos, lo que puede resultar en una imputación más precisa."
   ]
  },
  {
   "cell_type": "code",
   "execution_count": 13,
   "metadata": {},
   "outputs": [
    {
     "data": {
      "text/plain": [
       "type                    0\n",
       "fixed acidity           0\n",
       "volatile acidity        0\n",
       "citric acid             0\n",
       "residual sugar          0\n",
       "chlorides               0\n",
       "free sulfur dioxide     0\n",
       "total sulfur dioxide    0\n",
       "density                 0\n",
       "pH                      0\n",
       "sulphates               0\n",
       "alcohol                 0\n",
       "quality                 0\n",
       "dtype: int64"
      ]
     },
     "execution_count": 13,
     "metadata": {},
     "output_type": "execute_result"
    }
   ],
   "source": [
    "imputer = KNNImputer(n_neighbors=5)\n",
    "\n",
    "df = pd.DataFrame(imputer.fit_transform(df), columns=df.columns)\n",
    "\n",
    "df.isnull().sum()"
   ]
  },
  {
   "cell_type": "markdown",
   "metadata": {},
   "source": [
    "## Graficado de los datos\n",
    "\n",
    "Ahora vamos a visualizar nuestros datos para obtener una mejor comprensión de las características y su relación con nuestra variable objetivo, que es `quality`.\n",
    "\n",
    "La calidad del vino es nuestra principal preocupación en este análisis, ya que estamos interesados en predecir cómo las diferentes características químicas del vino pueden influir en su calidad. Al centrarnos en esta característica, podemos identificar qué factores contribuyen más a un vino de alta calidad y utilizar esta información para mejorar la producción de vino en el futuro."
   ]
  },
  {
   "cell_type": "code",
   "execution_count": 7,
   "metadata": {},
   "outputs": [
    {
     "data": {
      "image/png": "[encoded data removed]",
      "text/plain": [
       "<Figure size 1900x900 with 1 Axes>"
      ]
     },
     "metadata": {},
     "output_type": "display_data"
    }
   ],
   "source": [
    "plt.figure(figsize=(19, 9))\n",
    "\n",
    "sns.countplot(x='quality', data=df, palette='coolwarm')\n",
    "plt.xlabel('Quality')\n",
    "plt.ylabel('Count')\n",
    "plt.title('Distribution of Quality')\n",
    "\n",
    "plt.show()"
   ]
  },
  {
   "cell_type": "markdown",
   "metadata": {},
   "source": []
  },
  {
   "cell_type": "code",
   "execution_count": 15,
   "metadata": {},
   "outputs": [
    {
     "data": {
      "image/png": "[encoded data removed]",
      "text/plain": [
       "<Figure size 1900x700 with 1 Axes>"
      ]
     },
     "metadata": {},
     "output_type": "display_data"
    }
   ],
   "source": [
    "# sum type\n",
    "type_sum = df['type'].value_counts()\n",
    "\n",
    "# plot type\n",
    "plt.figure(figsize=(19, 7))\n",
    "plt.bar(type_sum.index, type_sum.values, color='skyblue')\n",
    "plt.xticks(type_sum.index, ['Red', 'White'])\n",
    "plt.show()"
   ]
  },
  {
   "cell_type": "code",
   "execution_count": 9,
   "metadata": {},
   "outputs": [
    {
     "data": {
      "image/png": "[encoded data removed]",
      "text/plain": [
       "<Figure size 1700x700 with 2 Axes>"
      ]
     },
     "metadata": {},
     "output_type": "display_data"
    }
   ],
   "source": [
    "plt.figure(figsize=(17, 7))\n",
    "\n",
    "plt.subplot(1, 2, 1)\n",
    "plt.boxplot(df['alcohol'])\n",
    "plt.title('Boxplot del contenido de alcohol')\n",
    "\n",
    "plt.subplot(1, 2, 2)\n",
    "plt.hist(df['alcohol'], bins=10, color='skyblue')\n",
    "plt.title('Distribución del contenido de alcohol')\n",
    "\n",
    "plt.tight_layout()\n",
    "plt.show()"
   ]
  },
  {
   "cell_type": "code",
   "execution_count": 10,
   "metadata": {},
   "outputs": [
    {
     "data": {
      "image/png": "[encoded data removed]",
      "text/plain": [
       "<Figure size 1900x700 with 1 Axes>"
      ]
     },
     "metadata": {},
     "output_type": "display_data"
    }
   ],
   "source": [
    "df['type'] = df['type'].astype(str)\n",
    "\n",
    "plt.figure(figsize=(19, 7))\n",
    "\n",
    "sns.countplot(x='quality', hue='type', data=df, palette='coolwarm')\n",
    "plt.xlabel('Quality')\n",
    "plt.title('Relationship between Type and Quality')\n",
    "plt.legend(title='Type', loc='upper right')\n",
    "\n",
    "plt.show()"
   ]
  },
  {
   "cell_type": "code",
   "execution_count": 11,
   "metadata": {},
   "outputs": [
    {
     "data": {
      "image/png": "[encoded data removed]",
      "text/plain": [
       "<Figure size 1900x700 with 1 Axes>"
      ]
     },
     "metadata": {},
     "output_type": "display_data"
    }
   ],
   "source": [
    "plt.figure(figsize=(19, 7))\n",
    "\n",
    "plt.bar(df['quality'], df['alcohol'], color='skyblue')\n",
    "plt.xlabel('quality')\n",
    "plt.ylabel('alcohol')\n",
    "\n",
    "plt.show()"
   ]
  },
  {
   "cell_type": "code",
   "execution_count": 12,
   "metadata": {},
   "outputs": [],
   "source": [
    "df.replace({'white': 1, 'red': 0}, inplace=True)"
   ]
  },
  {
   "cell_type": "code",
   "execution_count": 13,
   "metadata": {},
   "outputs": [
    {
     "data": {
      "text/html": [
       "<div>\n",
       "<style scoped>\n",
       "    .dataframe tbody tr th:only-of-type {\n",
       "        vertical-align: middle;\n",
       "    }\n",
       "\n",
       "    .dataframe tbody tr th {\n",
       "        vertical-align: top;\n",
       "    }\n",
       "\n",
       "    .dataframe thead th {\n",
       "        text-align: right;\n",
       "    }\n",
       "</style>\n",
       "<table border=\"1\" class=\"dataframe\">\n",
       "  <thead>\n",
       "    <tr style=\"text-align: right;\">\n",
       "      <th></th>\n",
       "      <th>type</th>\n",
       "      <th>fixed acidity</th>\n",
       "      <th>volatile acidity</th>\n",
       "      <th>citric acid</th>\n",
       "      <th>residual sugar</th>\n",
       "      <th>chlorides</th>\n",
       "      <th>free sulfur dioxide</th>\n",
       "      <th>total sulfur dioxide</th>\n",
       "      <th>density</th>\n",
       "      <th>pH</th>\n",
       "      <th>sulphates</th>\n",
       "      <th>alcohol</th>\n",
       "      <th>quality</th>\n",
       "    </tr>\n",
       "  </thead>\n",
       "  <tbody>\n",
       "    <tr>\n",
       "      <th>type</th>\n",
       "      <td>1.000000</td>\n",
       "      <td>-0.486913</td>\n",
       "      <td>-0.652606</td>\n",
       "      <td>0.187073</td>\n",
       "      <td>0.348982</td>\n",
       "      <td>-0.512596</td>\n",
       "      <td>0.471644</td>\n",
       "      <td>0.700357</td>\n",
       "      <td>-0.390645</td>\n",
       "      <td>-0.328514</td>\n",
       "      <td>-0.486662</td>\n",
       "      <td>0.032970</td>\n",
       "      <td>0.119323</td>\n",
       "    </tr>\n",
       "    <tr>\n",
       "      <th>fixed acidity</th>\n",
       "      <td>-0.486913</td>\n",
       "      <td>1.000000</td>\n",
       "      <td>0.219918</td>\n",
       "      <td>0.323349</td>\n",
       "      <td>-0.112219</td>\n",
       "      <td>0.298282</td>\n",
       "      <td>-0.283237</td>\n",
       "      <td>-0.329409</td>\n",
       "      <td>0.458941</td>\n",
       "      <td>-0.251683</td>\n",
       "      <td>0.300225</td>\n",
       "      <td>-0.095560</td>\n",
       "      <td>-0.076967</td>\n",
       "    </tr>\n",
       "    <tr>\n",
       "      <th>volatile acidity</th>\n",
       "      <td>-0.652606</td>\n",
       "      <td>0.219918</td>\n",
       "      <td>1.000000</td>\n",
       "      <td>-0.377759</td>\n",
       "      <td>-0.196578</td>\n",
       "      <td>0.377122</td>\n",
       "      <td>-0.353055</td>\n",
       "      <td>-0.414706</td>\n",
       "      <td>0.271107</td>\n",
       "      <td>0.260283</td>\n",
       "      <td>0.225313</td>\n",
       "      <td>-0.038215</td>\n",
       "      <td>-0.265838</td>\n",
       "    </tr>\n",
       "    <tr>\n",
       "      <th>citric acid</th>\n",
       "      <td>0.187073</td>\n",
       "      <td>0.323349</td>\n",
       "      <td>-0.377759</td>\n",
       "      <td>1.000000</td>\n",
       "      <td>0.142451</td>\n",
       "      <td>0.039310</td>\n",
       "      <td>0.133426</td>\n",
       "      <td>0.195148</td>\n",
       "      <td>0.096307</td>\n",
       "      <td>-0.328354</td>\n",
       "      <td>0.057564</td>\n",
       "      <td>-0.010431</td>\n",
       "      <td>0.085699</td>\n",
       "    </tr>\n",
       "    <tr>\n",
       "      <th>residual sugar</th>\n",
       "      <td>0.348982</td>\n",
       "      <td>-0.112219</td>\n",
       "      <td>-0.196578</td>\n",
       "      <td>0.142451</td>\n",
       "      <td>1.000000</td>\n",
       "      <td>-0.128887</td>\n",
       "      <td>0.403242</td>\n",
       "      <td>0.495704</td>\n",
       "      <td>0.552487</td>\n",
       "      <td>-0.266717</td>\n",
       "      <td>-0.185716</td>\n",
       "      <td>-0.359656</td>\n",
       "      <td>-0.036819</td>\n",
       "    </tr>\n",
       "    <tr>\n",
       "      <th>chlorides</th>\n",
       "      <td>-0.512596</td>\n",
       "      <td>0.298282</td>\n",
       "      <td>0.377122</td>\n",
       "      <td>0.039310</td>\n",
       "      <td>-0.128887</td>\n",
       "      <td>1.000000</td>\n",
       "      <td>-0.194978</td>\n",
       "      <td>-0.279547</td>\n",
       "      <td>0.362580</td>\n",
       "      <td>0.044754</td>\n",
       "      <td>0.395073</td>\n",
       "      <td>-0.256844</td>\n",
       "      <td>-0.200818</td>\n",
       "    </tr>\n",
       "    <tr>\n",
       "      <th>free sulfur dioxide</th>\n",
       "      <td>0.471644</td>\n",
       "      <td>-0.283237</td>\n",
       "      <td>-0.353055</td>\n",
       "      <td>0.133426</td>\n",
       "      <td>0.403242</td>\n",
       "      <td>-0.194978</td>\n",
       "      <td>1.000000</td>\n",
       "      <td>0.720934</td>\n",
       "      <td>0.025717</td>\n",
       "      <td>-0.145116</td>\n",
       "      <td>-0.188471</td>\n",
       "      <td>-0.179838</td>\n",
       "      <td>0.055463</td>\n",
       "    </tr>\n",
       "    <tr>\n",
       "      <th>total sulfur dioxide</th>\n",
       "      <td>0.700357</td>\n",
       "      <td>-0.329409</td>\n",
       "      <td>-0.414706</td>\n",
       "      <td>0.195148</td>\n",
       "      <td>0.495704</td>\n",
       "      <td>-0.279547</td>\n",
       "      <td>0.720934</td>\n",
       "      <td>1.000000</td>\n",
       "      <td>0.032395</td>\n",
       "      <td>-0.237523</td>\n",
       "      <td>-0.275291</td>\n",
       "      <td>-0.265740</td>\n",
       "      <td>-0.041385</td>\n",
       "    </tr>\n",
       "    <tr>\n",
       "      <th>density</th>\n",
       "      <td>-0.390645</td>\n",
       "      <td>0.458941</td>\n",
       "      <td>0.271107</td>\n",
       "      <td>0.096307</td>\n",
       "      <td>0.552487</td>\n",
       "      <td>0.362580</td>\n",
       "      <td>0.025717</td>\n",
       "      <td>0.032395</td>\n",
       "      <td>1.000000</td>\n",
       "      <td>0.011913</td>\n",
       "      <td>0.259432</td>\n",
       "      <td>-0.686745</td>\n",
       "      <td>-0.305858</td>\n",
       "    </tr>\n",
       "    <tr>\n",
       "      <th>pH</th>\n",
       "      <td>-0.328514</td>\n",
       "      <td>-0.251683</td>\n",
       "      <td>0.260283</td>\n",
       "      <td>-0.328354</td>\n",
       "      <td>-0.266717</td>\n",
       "      <td>0.044754</td>\n",
       "      <td>-0.145116</td>\n",
       "      <td>-0.237523</td>\n",
       "      <td>0.011913</td>\n",
       "      <td>1.000000</td>\n",
       "      <td>0.191075</td>\n",
       "      <td>0.120939</td>\n",
       "      <td>0.019356</td>\n",
       "    </tr>\n",
       "    <tr>\n",
       "      <th>sulphates</th>\n",
       "      <td>-0.486662</td>\n",
       "      <td>0.300225</td>\n",
       "      <td>0.225313</td>\n",
       "      <td>0.057564</td>\n",
       "      <td>-0.185716</td>\n",
       "      <td>0.395073</td>\n",
       "      <td>-0.188471</td>\n",
       "      <td>-0.275291</td>\n",
       "      <td>0.259432</td>\n",
       "      <td>0.191075</td>\n",
       "      <td>1.000000</td>\n",
       "      <td>-0.003261</td>\n",
       "      <td>0.038713</td>\n",
       "    </tr>\n",
       "    <tr>\n",
       "      <th>alcohol</th>\n",
       "      <td>0.032970</td>\n",
       "      <td>-0.095560</td>\n",
       "      <td>-0.038215</td>\n",
       "      <td>-0.010431</td>\n",
       "      <td>-0.359656</td>\n",
       "      <td>-0.256844</td>\n",
       "      <td>-0.179838</td>\n",
       "      <td>-0.265740</td>\n",
       "      <td>-0.686745</td>\n",
       "      <td>0.120939</td>\n",
       "      <td>-0.003261</td>\n",
       "      <td>1.000000</td>\n",
       "      <td>0.444319</td>\n",
       "    </tr>\n",
       "    <tr>\n",
       "      <th>quality</th>\n",
       "      <td>0.119323</td>\n",
       "      <td>-0.076967</td>\n",
       "      <td>-0.265838</td>\n",
       "      <td>0.085699</td>\n",
       "      <td>-0.036819</td>\n",
       "      <td>-0.200818</td>\n",
       "      <td>0.055463</td>\n",
       "      <td>-0.041385</td>\n",
       "      <td>-0.305858</td>\n",
       "      <td>0.019356</td>\n",
       "      <td>0.038713</td>\n",
       "      <td>0.444319</td>\n",
       "      <td>1.000000</td>\n",
       "    </tr>\n",
       "  </tbody>\n",
       "</table>\n",
       "</div>"
      ],
      "text/plain": [
       "                          type  fixed acidity  volatile acidity  citric acid  \\\n",
       "type                  1.000000      -0.486913         -0.652606     0.187073   \n",
       "fixed acidity        -0.486913       1.000000          0.219918     0.323349   \n",
       "volatile acidity     -0.652606       0.219918          1.000000    -0.377759   \n",
       "citric acid           0.187073       0.323349         -0.377759     1.000000   \n",
       "residual sugar        0.348982      -0.112219         -0.196578     0.142451   \n",
       "chlorides            -0.512596       0.298282          0.377122     0.039310   \n",
       "free sulfur dioxide   0.471644      -0.283237         -0.353055     0.133426   \n",
       "total sulfur dioxide  0.700357      -0.329409         -0.414706     0.195148   \n",
       "density              -0.390645       0.458941          0.271107     0.096307   \n",
       "pH                   -0.328514      -0.251683          0.260283    -0.328354   \n",
       "sulphates            -0.486662       0.300225          0.225313     0.057564   \n",
       "alcohol               0.032970      -0.095560         -0.038215    -0.010431   \n",
       "quality               0.119323      -0.076967         -0.265838     0.085699   \n",
       "\n",
       "                      residual sugar  chlorides  free sulfur dioxide  \\\n",
       "type                        0.348982  -0.512596             0.471644   \n",
       "fixed acidity              -0.112219   0.298282            -0.283237   \n",
       "volatile acidity           -0.196578   0.377122            -0.353055   \n",
       "citric acid                 0.142451   0.039310             0.133426   \n",
       "residual sugar              1.000000  -0.128887             0.403242   \n",
       "chlorides                  -0.128887   1.000000            -0.194978   \n",
       "free sulfur dioxide         0.403242  -0.194978             1.000000   \n",
       "total sulfur dioxide        0.495704  -0.279547             0.720934   \n",
       "density                     0.552487   0.362580             0.025717   \n",
       "pH                         -0.266717   0.044754            -0.145116   \n",
       "sulphates                  -0.185716   0.395073            -0.188471   \n",
       "alcohol                    -0.359656  -0.256844            -0.179838   \n",
       "quality                    -0.036819  -0.200818             0.055463   \n",
       "\n",
       "                      total sulfur dioxide   density        pH  sulphates  \\\n",
       "type                              0.700357 -0.390645 -0.328514  -0.486662   \n",
       "fixed acidity                    -0.329409  0.458941 -0.251683   0.300225   \n",
       "volatile acidity                 -0.414706  0.271107  0.260283   0.225313   \n",
       "citric acid                       0.195148  0.096307 -0.328354   0.057564   \n",
       "residual sugar                    0.495704  0.552487 -0.266717  -0.185716   \n",
       "chlorides                        -0.279547  0.362580  0.044754   0.395073   \n",
       "free sulfur dioxide               0.720934  0.025717 -0.145116  -0.188471   \n",
       "total sulfur dioxide              1.000000  0.032395 -0.237523  -0.275291   \n",
       "density                           0.032395  1.000000  0.011913   0.259432   \n",
       "pH                               -0.237523  0.011913  1.000000   0.191075   \n",
       "sulphates                        -0.275291  0.259432  0.191075   1.000000   \n",
       "alcohol                          -0.265740 -0.686745  0.120939  -0.003261   \n",
       "quality                          -0.041385 -0.305858  0.019356   0.038713   \n",
       "\n",
       "                       alcohol   quality  \n",
       "type                  0.032970  0.119323  \n",
       "fixed acidity        -0.095560 -0.076967  \n",
       "volatile acidity     -0.038215 -0.265838  \n",
       "citric acid          -0.010431  0.085699  \n",
       "residual sugar       -0.359656 -0.036819  \n",
       "chlorides            -0.256844 -0.200818  \n",
       "free sulfur dioxide  -0.179838  0.055463  \n",
       "total sulfur dioxide -0.265740 -0.041385  \n",
       "density              -0.686745 -0.305858  \n",
       "pH                    0.120939  0.019356  \n",
       "sulphates            -0.003261  0.038713  \n",
       "alcohol               1.000000  0.444319  \n",
       "quality               0.444319  1.000000  "
      ]
     },
     "execution_count": 13,
     "metadata": {},
     "output_type": "execute_result"
    }
   ],
   "source": [
    "corr = df.corr()\n",
    "corr"
   ]
  },
  {
   "cell_type": "markdown",
   "metadata": {},
   "source": [
    "Total de dióxido de azufre (total sulfur dioxide): Esta variable tiene una fuerte correlación positiva con la calidad del vino (0.70). Por lo tanto, sería relevante incluirla en el modelo.\n",
    "Cloruros (chlorides): Aunque tiene una correlación negativa con la calidad (-0.20), su impacto no es tan fuerte como otras variables. Puede considerarse para el modelo, pero no es crítico.\n",
    "Sulfatos (sulphates): Tiene una correlación positiva moderada con la calidad (0.44). Incluirlo podría ser beneficioso.\n",
    "Alcohol: Aunque su correlación con la calidad es baja (0.04), es una característica importante en la producción de vino. Puede ser relevante para el modelo.\n",
    "Acidez volátil (volatile acidity): Tiene una correlación negativa con la calidad (-0.27). Aunque no es tan fuerte, aún podría ser útil en el modelo."
   ]
  },
  {
   "cell_type": "code",
   "execution_count": 14,
   "metadata": {},
   "outputs": [
    {
     "data": {
      "text/plain": [
       "Text(0.5, 1.0, 'Correlation Heatmap')"
      ]
     },
     "execution_count": 14,
     "metadata": {},
     "output_type": "execute_result"
    },
    {
     "data": {
      "image/png": "[encoded data removed]",
      "text/plain": [
       "<Figure size 1000x800 with 2 Axes>"
      ]
     },
     "metadata": {},
     "output_type": "display_data"
    }
   ],
   "source": [
    "plt.figure(figsize=(10, 8))\n",
    "sns.heatmap(corr, annot=True)\n",
    "plt.title('Correlation Heatmap')"
   ]
  },
  {
   "cell_type": "markdown",
   "metadata": {},
   "source": [
    "para encontrar los mejores:"
   ]
  },
  {
   "cell_type": "code",
   "execution_count": 15,
   "metadata": {},
   "outputs": [],
   "source": [
    "df['best quality'] = [1 if x > 5 else 0 for x in df.quality]"
   ]
  },
  {
   "cell_type": "code",
   "execution_count": 16,
   "metadata": {},
   "outputs": [
    {
     "name": "stdout",
     "output_type": "stream",
     "text": [
      "Conjunto de entrenamiento:  (5197, 12) \n",
      "Conjunto de prueba:  (1300, 12)\n"
     ]
    }
   ],
   "source": [
    "features = df.drop([ 'quality', 'best quality'], axis=1)\n",
    "target = df['best quality']\n",
    "\n",
    "xtrain, xtest, ytrain, ytest = train_test_split(features, target, test_size=0.2, random_state=40)\n",
    "\n",
    "print(f'Conjunto de entrenamiento: ',xtrain.shape, '\\nConjunto de prueba: ', xtest.shape)"
   ]
  },
  {
   "cell_type": "code",
   "execution_count": 17,
   "metadata": {},
   "outputs": [],
   "source": [
    "norm = MinMaxScaler()\n",
    "\n",
    "xtrain = norm.fit_transform(xtrain)\n",
    "xtest = norm.transform(xtest)"
   ]
  },
  {
   "cell_type": "code",
   "execution_count": 18,
   "metadata": {},
   "outputs": [
    {
     "name": "stdout",
     "output_type": "stream",
     "text": [
      "Training Accuracy :  0.7024167074163331\n",
      "Validation Accuracy :  0.7023835065027941\n"
     ]
    }
   ],
   "source": [
    "# Crear el modelo de regresión logística\n",
    "logistic_model = LogisticRegression()\n",
    "\n",
    "# Entrenar el modelo\n",
    "logistic_model.fit(xtrain, ytrain)\n",
    "\n",
    "# Realizar predicciones en el conjunto de prueba\n",
    "ypred = logistic_model.predict(xtest)\n",
    "\n",
    "# Calcular la precisión del modelo\n",
    "print('Training Accuracy : ', metrics.roc_auc_score(ytrain, logistic_model.predict(xtrain)))\n",
    "print('Validation Accuracy : ', metrics.roc_auc_score(ytest, logistic_model.predict(xtest)))\n"
   ]
  },
  {
   "cell_type": "code",
   "execution_count": 19,
   "metadata": {},
   "outputs": [
    {
     "name": "stdout",
     "output_type": "stream",
     "text": [
      "Training Accuracy: 0.977221626684209\n",
      "Validation Accuracy: 0.8037208446991756\n"
     ]
    }
   ],
   "source": [
    "# Crear el modelo XGBClassifier\n",
    "xgb_model = XGBClassifier()\n",
    "\n",
    "# Entrenar el modelo\n",
    "xgb_model.fit(xtrain, ytrain)\n",
    "\n",
    "# Calcular la precisión del modelo\n",
    "print('Training Accuracy:', metrics.roc_auc_score(ytrain, xgb_model.predict(xtrain)))\n",
    "print('Validation Accuracy:', metrics.roc_auc_score(ytest, xgb_model.predict(xtest)))"
   ]
  },
  {
   "cell_type": "code",
   "execution_count": 20,
   "metadata": {},
   "outputs": [
    {
     "name": "stdout",
     "output_type": "stream",
     "text": [
      "Training Accuracy: 0.7203202525576721\n",
      "Validation Accuracy: 0.7101148333180086\n"
     ]
    }
   ],
   "source": [
    "# Crear el modelo SVC\n",
    "svc_model = SVC(kernel='rbf')\n",
    "\n",
    "# Entrenar el modelo\n",
    "svc_model.fit(xtrain, ytrain)\n",
    "\n",
    "# Calcular la precisión del modelo\n",
    "print('Training Accuracy:', metrics.roc_auc_score(ytrain, svc_model.predict(xtrain)))\n",
    "print('Validation Accuracy:', metrics.roc_auc_score(ytest, svc_model.predict(xtest)))\n"
   ]
  },
  {
   "cell_type": "code",
   "execution_count": 21,
   "metadata": {},
   "outputs": [
    {
     "name": "stdout",
     "output_type": "stream",
     "text": [
      "[[259 215]\n",
      " [117 709]]\n"
     ]
    }
   ],
   "source": [
    "from sklearn.metrics import confusion_matrix\n",
    "\n",
    "# Calcular la matriz de confusión\n",
    "cm = confusion_matrix(ytest, ypred)\n",
    "\n",
    "# Imprimir la matriz de confusión\n",
    "print(cm)"
   ]
  },
  {
   "cell_type": "code",
   "execution_count": null,
   "metadata": {},
   "outputs": [],
   "source": []
  }
 ],
 "metadata": {
  "kernelspec": {
   "display_name": "base",
   "language": "python",
   "name": "python3"
  },
  "language_info": {
   "codemirror_mode": {
    "name": "ipython",
    "version": 3
   },
   "file_extension": ".py",
   "mimetype": "text/x-python",
   "name": "python",
   "nbconvert_exporter": "python",
   "pygments_lexer": "ipython3",
   "version": "3.11.5"
  }
 },
 "nbformat": 4,
 "nbformat_minor": 2
}
